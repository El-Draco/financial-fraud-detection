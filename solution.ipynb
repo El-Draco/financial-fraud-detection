{
 "cells": [
  {
   "cell_type": "markdown",
   "id": "4a62315724c17bc0",
   "metadata": {},
   "source": [
    "# Part I: To be completed by hand:"
   ]
  },
  {
   "cell_type": "markdown",
   "id": "d7107884298db673",
   "metadata": {},
   "source": [
    "### Q1: When a student performs poorly on a quiz, the student sometimes is convinced that their score is an anomaly and that they will do much better on the next quiz.\n",
    "### The following data show the quiz scores (out of 20 points) for 4 students in STA301 in Spring2024. X= quiz1 score and Y=quiz 2 score.\n",
    "### (8, 10), (12, 12), (8, 15), (11, 10) "
   ]
  },
  {
   "cell_type": "markdown",
   "id": "40d2a12acee3b56f",
   "metadata": {},
   "source": [
    "#### a) Write the residual sum of squares (RSS) function and use it to derive the least squares estimates of the regression line. "
   ]
  },
  {
   "cell_type": "markdown",
   "id": "546646d3ae783f8c",
   "metadata": {},
   "source": [
    "#### b) Give an estimate of the pure error sum of squares. What are the degrees of freedom for the pure error?"
   ]
  },
  {
   "cell_type": "markdown",
   "id": "e01b4db5fbd0cc70",
   "metadata": {},
   "source": [
    "#### c) Give an estimate of the common variance, 𝜎2. "
   ]
  },
  {
   "cell_type": "markdown",
   "id": "1ba7ca2588a7ae96",
   "metadata": {},
   "source": [
    "#### d) Complete the following table for the calculations of expected residuals under Normality "
   ]
  },
  {
   "cell_type": "markdown",
   "id": "ae47fe4c478ee9e3",
   "metadata": {},
   "source": [
    "#### e) Use a software to calculate the correlation coefficient between e and 𝒆̂  and use it to make a conclusion on whether the normality assumption is possibly satisfied for this small sample of instances"
   ]
  },
  {
   "cell_type": "code",
   "execution_count": null,
   "id": "3dc839f23efab09a",
   "metadata": {},
   "outputs": [],
   "source": []
  },
  {
   "cell_type": "markdown",
   "id": "5697074e28be56e",
   "metadata": {},
   "source": [
    "# Part II: To be completed with the help of software: \n",
    "The dataset “dubai_properties” provides a detailed snapshot of rental property listings across major \n",
    "cities in the United Arab Emirates, including Abu Dhabi, Dubai, Sharjah, Ajman, Ras Al Khaimah, \n",
    "Umm Al Quwain, and Al Ain. Gathered from bayut.com, it includes various attributes such as \n",
    "property type, size, rent, and location details, making it a valuable resource for data-driven insights \n",
    "into the UAE rental market. Ideal for data analysts, researchers, and real estate professionals, this \n",
    "dataset allows for comprehensive analysis of trends, pricing, and market dynamics in the UAE's \n",
    "diverse rental landscape."
   ]
  },
  {
   "cell_type": "markdown",
   "id": "a837cad19cb4f1a8",
   "metadata": {},
   "source": [
    "### a) Is the study an example of experimental design, observational study or mixed? "
   ]
  },
  {
   "cell_type": "markdown",
   "id": "5bc38dc9af42cf28",
   "metadata": {},
   "source": [
    "Randomly sample 5000 entries from the data set (without replacement) and use the resulting \n",
    "data set to answer the below. "
   ]
  },
  {
   "cell_type": "code",
   "id": "3fe5f9f7d9b54e55",
   "metadata": {
    "ExecuteTime": {
     "end_time": "2025-04-13T17:22:35.043492Z",
     "start_time": "2025-04-13T17:22:34.727008Z"
    }
   },
   "source": [
    "import pandas as pd\n",
    "\n",
    "# Load dataset\n",
    "df = pd.read_csv(\"dubai_properties.csv\")  # use the full path if running outside notebook\n",
    "\n",
    "# Sample 5000 entries without replacement\n",
    "df_sample = df.sample(n=5000, replace=False, random_state=42).reset_index(drop=True)\n",
    "df_sample.head()"
   ],
   "outputs": [
    {
     "data": {
      "text/plain": [
       "                                             Address     Rent  Beds  Baths  \\\n",
       "0                  Muroor Road, Al Muroor, Abu Dhabi    63000     1      1   \n",
       "1                        Al Rawda 3, Al Rawda, Ajman    75000     6      8   \n",
       "2  Tower A, DAMAC Towers by Paramount Hotels and ...   220000     3      2   \n",
       "3                       Chorisia I, Al Barari, Dubai  1125000     5      2   \n",
       "4  Oxford Residence 2, JVC District 10, Jumeirah ...    52000     0      2   \n",
       "\n",
       "        Type  Area_in_sqft  Rent_per_sqft Rent_category Frequency  \\\n",
       "0  Apartment           940      67.021277           Low    Yearly   \n",
       "1      Villa          5000      15.000000        Medium    Yearly   \n",
       "2  Apartment          1935     113.695090          High    Yearly   \n",
       "3      Villa          4758     236.443884          High    Yearly   \n",
       "4  Apartment           388     134.020619           Low    Yearly   \n",
       "\n",
       "    Furnishing   Purpose Posted_date  Age_of_listing_in_days  \\\n",
       "0  Unfurnished  For Rent  2024-04-06                      15   \n",
       "1  Unfurnished  For Rent  2024-04-07                      14   \n",
       "2    Furnished  For Rent  2024-02-13                      68   \n",
       "3  Unfurnished  For Rent  2024-02-26                      55   \n",
       "4  Unfurnished  For Rent  2024-02-08                      73   \n",
       "\n",
       "                        Location       City   Latitude  Longitude  \n",
       "0                      Al Muroor  Abu Dhabi  24.476252  54.372675  \n",
       "1                       Al Rawda      Ajman  25.385444  55.441620  \n",
       "2                   Business Bay      Dubai  25.189427  55.264819  \n",
       "3                      Al Barari      Dubai  25.118865  55.320968  \n",
       "4  Jumeirah Village Circle (JVC)      Dubai  25.055945  55.207465  "
      ],
      "text/html": [
       "<div>\n",
       "<style scoped>\n",
       "    .dataframe tbody tr th:only-of-type {\n",
       "        vertical-align: middle;\n",
       "    }\n",
       "\n",
       "    .dataframe tbody tr th {\n",
       "        vertical-align: top;\n",
       "    }\n",
       "\n",
       "    .dataframe thead th {\n",
       "        text-align: right;\n",
       "    }\n",
       "</style>\n",
       "<table border=\"1\" class=\"dataframe\">\n",
       "  <thead>\n",
       "    <tr style=\"text-align: right;\">\n",
       "      <th></th>\n",
       "      <th>Address</th>\n",
       "      <th>Rent</th>\n",
       "      <th>Beds</th>\n",
       "      <th>Baths</th>\n",
       "      <th>Type</th>\n",
       "      <th>Area_in_sqft</th>\n",
       "      <th>Rent_per_sqft</th>\n",
       "      <th>Rent_category</th>\n",
       "      <th>Frequency</th>\n",
       "      <th>Furnishing</th>\n",
       "      <th>Purpose</th>\n",
       "      <th>Posted_date</th>\n",
       "      <th>Age_of_listing_in_days</th>\n",
       "      <th>Location</th>\n",
       "      <th>City</th>\n",
       "      <th>Latitude</th>\n",
       "      <th>Longitude</th>\n",
       "    </tr>\n",
       "  </thead>\n",
       "  <tbody>\n",
       "    <tr>\n",
       "      <th>0</th>\n",
       "      <td>Muroor Road, Al Muroor, Abu Dhabi</td>\n",
       "      <td>63000</td>\n",
       "      <td>1</td>\n",
       "      <td>1</td>\n",
       "      <td>Apartment</td>\n",
       "      <td>940</td>\n",
       "      <td>67.021277</td>\n",
       "      <td>Low</td>\n",
       "      <td>Yearly</td>\n",
       "      <td>Unfurnished</td>\n",
       "      <td>For Rent</td>\n",
       "      <td>2024-04-06</td>\n",
       "      <td>15</td>\n",
       "      <td>Al Muroor</td>\n",
       "      <td>Abu Dhabi</td>\n",
       "      <td>24.476252</td>\n",
       "      <td>54.372675</td>\n",
       "    </tr>\n",
       "    <tr>\n",
       "      <th>1</th>\n",
       "      <td>Al Rawda 3, Al Rawda, Ajman</td>\n",
       "      <td>75000</td>\n",
       "      <td>6</td>\n",
       "      <td>8</td>\n",
       "      <td>Villa</td>\n",
       "      <td>5000</td>\n",
       "      <td>15.000000</td>\n",
       "      <td>Medium</td>\n",
       "      <td>Yearly</td>\n",
       "      <td>Unfurnished</td>\n",
       "      <td>For Rent</td>\n",
       "      <td>2024-04-07</td>\n",
       "      <td>14</td>\n",
       "      <td>Al Rawda</td>\n",
       "      <td>Ajman</td>\n",
       "      <td>25.385444</td>\n",
       "      <td>55.441620</td>\n",
       "    </tr>\n",
       "    <tr>\n",
       "      <th>2</th>\n",
       "      <td>Tower A, DAMAC Towers by Paramount Hotels and ...</td>\n",
       "      <td>220000</td>\n",
       "      <td>3</td>\n",
       "      <td>2</td>\n",
       "      <td>Apartment</td>\n",
       "      <td>1935</td>\n",
       "      <td>113.695090</td>\n",
       "      <td>High</td>\n",
       "      <td>Yearly</td>\n",
       "      <td>Furnished</td>\n",
       "      <td>For Rent</td>\n",
       "      <td>2024-02-13</td>\n",
       "      <td>68</td>\n",
       "      <td>Business Bay</td>\n",
       "      <td>Dubai</td>\n",
       "      <td>25.189427</td>\n",
       "      <td>55.264819</td>\n",
       "    </tr>\n",
       "    <tr>\n",
       "      <th>3</th>\n",
       "      <td>Chorisia I, Al Barari, Dubai</td>\n",
       "      <td>1125000</td>\n",
       "      <td>5</td>\n",
       "      <td>2</td>\n",
       "      <td>Villa</td>\n",
       "      <td>4758</td>\n",
       "      <td>236.443884</td>\n",
       "      <td>High</td>\n",
       "      <td>Yearly</td>\n",
       "      <td>Unfurnished</td>\n",
       "      <td>For Rent</td>\n",
       "      <td>2024-02-26</td>\n",
       "      <td>55</td>\n",
       "      <td>Al Barari</td>\n",
       "      <td>Dubai</td>\n",
       "      <td>25.118865</td>\n",
       "      <td>55.320968</td>\n",
       "    </tr>\n",
       "    <tr>\n",
       "      <th>4</th>\n",
       "      <td>Oxford Residence 2, JVC District 10, Jumeirah ...</td>\n",
       "      <td>52000</td>\n",
       "      <td>0</td>\n",
       "      <td>2</td>\n",
       "      <td>Apartment</td>\n",
       "      <td>388</td>\n",
       "      <td>134.020619</td>\n",
       "      <td>Low</td>\n",
       "      <td>Yearly</td>\n",
       "      <td>Unfurnished</td>\n",
       "      <td>For Rent</td>\n",
       "      <td>2024-02-08</td>\n",
       "      <td>73</td>\n",
       "      <td>Jumeirah Village Circle (JVC)</td>\n",
       "      <td>Dubai</td>\n",
       "      <td>25.055945</td>\n",
       "      <td>55.207465</td>\n",
       "    </tr>\n",
       "  </tbody>\n",
       "</table>\n",
       "</div>"
      ]
     },
     "execution_count": 4,
     "metadata": {},
     "output_type": "execute_result"
    }
   ],
   "execution_count": 4
  },
  {
   "cell_type": "markdown",
   "id": "d0b06af39f94eb8a",
   "metadata": {},
   "source": [
    "## Probability calculations: "
   ]
  },
  {
   "cell_type": "markdown",
   "id": "27c8117e0e3d521c",
   "metadata": {},
   "source": [
    "### b) Construct the frequency table of the “Furnishing” column and use the table to answer the following questions:\n"
   ]
  },
  {
   "cell_type": "code",
   "execution_count": null,
   "id": "88b8a17bb7c37316",
   "metadata": {},
   "outputs": [],
   "source": []
  },
  {
   "cell_type": "markdown",
   "id": "cafcb67346fe9a68",
   "metadata": {},
   "source": [
    "#### i. Calculate the percentage of “furnished” properties."
   ]
  },
  {
   "cell_type": "code",
   "execution_count": null,
   "id": "c80d9d1573067d42",
   "metadata": {},
   "outputs": [],
   "source": []
  },
  {
   "cell_type": "markdown",
   "id": "4b281e887f86a7e3",
   "metadata": {},
   "source": [
    "#### ii. Suppose you survey 50 renting properties across major cities in the UAE, what is the probability that 35 of them are furnished? "
   ]
  },
  {
   "cell_type": "code",
   "execution_count": null,
   "id": "23ccb16c5d7bcb5",
   "metadata": {},
   "outputs": [],
   "source": []
  },
  {
   "cell_type": "markdown",
   "id": "b546c1acb69e5d1a",
   "metadata": {},
   "source": [
    "### c) Construct a frequency table of the “Rent_category” columns and use the results to answer  the following questions:"
   ]
  },
  {
   "cell_type": "code",
   "execution_count": null,
   "id": "edc634b554115635",
   "metadata": {},
   "outputs": [],
   "source": []
  },
  {
   "cell_type": "markdown",
   "id": "239278ab5568d0f",
   "metadata": {},
   "source": [
    "#### i. Calculate the percentages of the three values “High”, “Medium” and “Low”. \n"
   ]
  },
  {
   "cell_type": "code",
   "execution_count": null,
   "id": "393834a0ff520a51",
   "metadata": {},
   "outputs": [],
   "source": []
  },
  {
   "cell_type": "markdown",
   "id": "b4b32246cbcfbcfe",
   "metadata": {},
   "source": [
    "#### ii. Suppose you survey 50 properties across major cities in the UAE, what is the probability 15 are Low rent, 10 are Medium rent and the rest are of High rent? "
   ]
  },
  {
   "cell_type": "code",
   "execution_count": null,
   "id": "eeae0228f5c156e9",
   "metadata": {},
   "outputs": [],
   "source": []
  },
  {
   "cell_type": "markdown",
   "id": "bfd74a4f40c2d3b",
   "metadata": {},
   "source": [
    "### d) Suppose the average number of bedrooms for the rental properties in Dubai is 2. Suppose you survey some rental properties in Dubai, what is the probability that you find at most 1 of them with 2 bedrooms. "
   ]
  },
  {
   "cell_type": "code",
   "execution_count": null,
   "id": "d8c5c52c68edc064",
   "metadata": {},
   "outputs": [],
   "source": []
  },
  {
   "cell_type": "markdown",
   "id": "b2ca1b4ad454eb83",
   "metadata": {},
   "source": [
    "### e) Construct box plot chart of “Age_of_listing_in_days” by the variable “Furnishing”. Discuss the patterns you see in the plots and compare the central values, variability and skewness across the two Furnishing categories "
   ]
  },
  {
   "cell_type": "code",
   "execution_count": null,
   "id": "7b343837f6ac2302",
   "metadata": {},
   "outputs": [],
   "source": []
  },
  {
   "cell_type": "markdown",
   "id": "afb0ef305e445264",
   "metadata": {},
   "source": [
    "### f) Give the summary statistics of the “Age_of_listing_in_days” by the variable “Furnishing”?"
   ]
  },
  {
   "cell_type": "code",
   "execution_count": null,
   "id": "11672febd2d65492",
   "metadata": {},
   "outputs": [],
   "source": []
  },
  {
   "cell_type": "markdown",
   "id": "185a9bc3a0bcfaea",
   "metadata": {},
   "source": [
    "#### i. Compare the mean values of the age of listing for furnished and unfurnished properties. Which type of properties has longer listing. "
   ]
  },
  {
   "cell_type": "code",
   "execution_count": null,
   "id": "f9e7599c60275adf",
   "metadata": {},
   "outputs": [],
   "source": []
  },
  {
   "cell_type": "markdown",
   "id": "84e59a8e2cc68fe0",
   "metadata": {},
   "source": [
    "#### ii. Calculate the coefficient of variation of the age of listing for the two furnishing categories and discuss the results."
   ]
  },
  {
   "cell_type": "code",
   "execution_count": null,
   "id": "f4acc7fcb013b469",
   "metadata": {},
   "outputs": [],
   "source": []
  },
  {
   "cell_type": "markdown",
   "id": "f3f781c02a7f1537",
   "metadata": {},
   "source": [
    "\n",
    "#### iii. Construct the 95% confidence interval for the ratio of variances of the age of listing for furnished and unfurnished properties. What do you conclude? "
   ]
  },
  {
   "cell_type": "code",
   "execution_count": null,
   "id": "51f4b2287634c6f9",
   "metadata": {},
   "outputs": [],
   "source": []
  },
  {
   "cell_type": "markdown",
   "id": "d0b6633160e0585",
   "metadata": {},
   "source": [
    "### g) Construct the Normal probability plot (Q-Q plot) for the rent? Does the plot indicate that the rent is normally distributed. "
   ]
  },
  {
   "cell_type": "code",
   "id": "8aaccd2866baa1b0",
   "metadata": {
    "ExecuteTime": {
     "end_time": "2025-04-13T17:22:50.292372Z",
     "start_time": "2025-04-13T17:22:49.526594Z"
    }
   },
   "source": [
    "import scipy.stats as stats\n",
    "import matplotlib.pyplot as plt\n",
    "\n",
    "# Q-Q plot\n",
    "stats.probplot(df_sample[\"Rent\"].dropna(), dist=\"norm\", plot=plt)\n",
    "plt.title(\"Q-Q Plot for Rent\")\n",
    "plt.show()\n"
   ],
   "outputs": [
    {
     "data": {
      "text/plain": [
       "<Figure size 640x480 with 1 Axes>"
      ],
      "image/png": "[encoded data removed]"
     },
     "metadata": {},
     "output_type": "display_data"
    }
   ],
   "execution_count": 5
  },
  {
   "cell_type": "markdown",
   "id": "3fc966db1ee5786f",
   "metadata": {},
   "source": "### h) Construct the correlation coefficient matrix for the features: rent, beds, baths, area_in_sqft, rent_per_sqft and age of listing . Comment on the strength of the correlations? Which pair of features is the most correlated? Which pair of features is the least correlated? Hint: consider depicting the correlations in a heatmap."
  },
  {
   "cell_type": "code",
   "id": "b81d2f39ef881e46",
   "metadata": {
    "ExecuteTime": {
     "end_time": "2025-04-13T17:23:49.215935Z",
     "start_time": "2025-04-13T17:23:47.616649Z"
    }
   },
   "source": [
    "import seaborn as sns\n",
    "\n",
    "# Select relevant features\n",
    "features = [\"Rent\", \"Beds\", \"Baths\", \"Area_in_sqft\", \"Rent_per_sqft\", \"Age_of_listing_in_days\"]\n",
    "corr_matrix = df_sample[features].corr()\n",
    "\n",
    "# Plot heatmap\n",
    "plt.figure(figsize=(10, 8))\n",
    "sns.heatmap(corr_matrix, annot=True, cmap='coolwarm', fmt=\".2f\")\n",
    "plt.title(\"Correlation Matrix Heatmap\")\n",
    "plt.show()"
   ],
   "outputs": [
    {
     "data": {
      "text/plain": [
       "<Figure size 1000x800 with 2 Axes>"
      ],
      "image/png": "[encoded data removed]"
     },
     "metadata": {},
     "output_type": "display_data"
    }
   ],
   "execution_count": 6
  },
  {
   "cell_type": "markdown",
   "id": "1cad31d613109d13",
   "metadata": {},
   "source": [
    "### i) Construct a two-way classification table for the variables “rent_category” and “city”. Use the table to test if the two variables are independent? State the hypotheses and conclusions clearly and discuss any pattern you find in the table. Use α=0.05. "
   ]
  },
  {
   "cell_type": "code",
   "id": "e29731ff60f703bb",
   "metadata": {
    "ExecuteTime": {
     "end_time": "2025-04-13T17:24:39.063425Z",
     "start_time": "2025-04-13T17:24:39.037494Z"
    }
   },
   "source": [
    "from scipy.stats import chi2_contingency\n",
    "\n",
    "ct_city = pd.crosstab(df_sample['Rent_category'], df_sample['City'])\n",
    "chi2, p, dof, expected = chi2_contingency(ct_city)\n",
    "\n",
    "print(\"Chi-Square Test (Rent Category vs City)\")\n",
    "print(\"Chi2 Statistic:\", chi2)\n",
    "print(\"p-value:\", p)\n",
    "if p < 0.05:\n",
    "    print(\"Reject null hypothesis: Variables are dependent.\")\n",
    "else:\n",
    "    print(\"Fail to reject null hypothesis: Variables are independent.\")"
   ],
   "outputs": [
    {
     "name": "stdout",
     "output_type": "stream",
     "text": [
      "Chi-Square Test (Rent Category vs City)\n",
      "Chi2 Statistic: 1414.054443231219\n",
      "p-value: 1.2973474891053002e-295\n",
      "Reject null hypothesis: Variables are dependent.\n"
     ]
    }
   ],
   "execution_count": 10
  },
  {
   "cell_type": "markdown",
   "id": "5956d542df34e53f",
   "metadata": {},
   "source": [
    "### j) Construct a two-way classification table for the variables “rent_category” and “Furnishing”. Test for independence? State the hypotheses and conclusions clearly and discuss any pattern you find in the table. Which rent category is more likely to be unfurnished. Use α=0.05."
   ]
  },
  {
   "cell_type": "code",
   "id": "88c9ace6d2f5e839",
   "metadata": {
    "ExecuteTime": {
     "end_time": "2025-04-13T17:24:52.865922Z",
     "start_time": "2025-04-13T17:24:52.837251Z"
    }
   },
   "source": [
    "ct_furnishing = pd.crosstab(df_sample['Rent_category'], df_sample['Furnishing'])\n",
    "chi2, p, dof, expected = chi2_contingency(ct_furnishing)\n",
    "\n",
    "print(\"Chi-Square Test (Rent Category vs Furnishing)\")\n",
    "print(\"Chi2 Statistic:\", chi2)\n",
    "print(\"p-value:\", p)\n",
    "if p < 0.05:\n",
    "    print(\"Reject null hypothesis: Variables are dependent.\")\n",
    "else:\n",
    "    print(\"Fail to reject null hypothesis: Variables are independent.\")\n",
    "\n",
    "# Determine which category is more likely to be unfurnished\n",
    "print(ct_furnishing)\n"
   ],
   "outputs": [
    {
     "name": "stdout",
     "output_type": "stream",
     "text": [
      "Chi-Square Test (Rent Category vs Furnishing)\n",
      "Chi2 Statistic: 207.205886358242\n",
      "p-value: 1.0134759992877909e-45\n",
      "Reject null hypothesis: Variables are dependent.\n",
      "Furnishing     Furnished  Unfurnished\n",
      "Rent_category                        \n",
      "High                 526         1157\n",
      "Low                  174         1451\n",
      "Medium               396         1296\n"
     ]
    }
   ],
   "execution_count": 11
  },
  {
   "cell_type": "markdown",
   "id": "b21835c03235bcb",
   "metadata": {},
   "source": [
    "---"
   ]
  },
  {
   "cell_type": "markdown",
   "id": "66fc8605753d0530",
   "metadata": {},
   "source": [
    "## Naïve Bayes"
   ]
  },
  {
   "cell_type": "markdown",
   "id": "56f753a1fc86e49c",
   "metadata": {},
   "source": [
    "### k) Split your sampled data set into 70% training data set and 30% testing data set."
   ]
  },
  {
   "cell_type": "code",
   "execution_count": null,
   "id": "74a06897c1d8657d",
   "metadata": {},
   "outputs": [],
   "source": []
  },
  {
   "cell_type": "markdown",
   "id": "e5e1f10cc344ec58",
   "metadata": {},
   "source": [
    "### l) Apply Naïve Bayes classifier to the training data set in order to develop a model that predicts the target variable “Furnishing” using the features: rent, beds, baths, type, area_in_sqft, rent category and age of listing "
   ]
  },
  {
   "cell_type": "code",
   "execution_count": null,
   "id": "239b0b258c64a1f0",
   "metadata": {},
   "outputs": [],
   "source": []
  },
  {
   "cell_type": "markdown",
   "id": "d6b8d251fe7e9357",
   "metadata": {},
   "source": [
    "### m) Apply your model in part l) to the testing data. Construct the confusion matrix and calculate  the misclassification rate."
   ]
  },
  {
   "cell_type": "code",
   "execution_count": null,
   "id": "d09f4e0c7c126769",
   "metadata": {},
   "outputs": [],
   "source": []
  },
  {
   "cell_type": "markdown",
   "id": "6edc29474f21ee9d",
   "metadata": {},
   "source": [
    "### n) Does the data suffer from imbalanced classification of the target variable? If so, how does this imbalance affect the accuracy of your model. "
   ]
  },
  {
   "cell_type": "code",
   "execution_count": null,
   "id": "102e564c948c35a5",
   "metadata": {},
   "outputs": [],
   "source": []
  },
  {
   "cell_type": "markdown",
   "id": "ce8d245d1c46b51d",
   "metadata": {},
   "source": [
    "---"
   ]
  },
  {
   "cell_type": "markdown",
   "id": "5bd8817dfb74c626",
   "metadata": {},
   "source": [
    "## Simple Regression"
   ]
  },
  {
   "cell_type": "markdown",
   "id": "88e40622c8003373",
   "metadata": {},
   "source": [
    "### o) Construct a scatter plot of the variable “Y=rent” against “X= area_in_sqft” using the training dataset. Comment on the type of relationship between the two variables? Are there outliers? "
   ]
  },
  {
   "cell_type": "code",
   "execution_count": null,
   "id": "a71ca903a62b6af5",
   "metadata": {},
   "outputs": [],
   "source": []
  },
  {
   "cell_type": "markdown",
   "id": "495512c86a23c543",
   "metadata": {},
   "source": [
    "### p) Fit a simple linear regression function relating Y to X. "
   ]
  },
  {
   "cell_type": "code",
   "execution_count": null,
   "id": "c41182b4c5a1f387",
   "metadata": {},
   "outputs": [],
   "source": []
  },
  {
   "cell_type": "markdown",
   "id": "cfc72630bb196e2c",
   "metadata": {},
   "source": [
    "### q) Explain what does the value of R-sq represent and use it to obtain the  correlation coefficient between Y and X? Is the correlation significant from zero? "
   ]
  },
  {
   "cell_type": "code",
   "execution_count": null,
   "id": "66bba3eb830bb1",
   "metadata": {},
   "outputs": [],
   "source": []
  },
  {
   "cell_type": "markdown",
   "id": "7c8aecde031a7e19",
   "metadata": {},
   "source": [
    "### r) Explain what the lack of fit test tells you about the fitted equation in part p). Conduct the test and state your conclusions clearly."
   ]
  },
  {
   "cell_type": "code",
   "execution_count": null,
   "id": "79fbfafd21eebca8",
   "metadata": {},
   "outputs": [],
   "source": []
  },
  {
   "cell_type": "markdown",
   "id": "e2068a3e9b43b789",
   "metadata": {},
   "source": [
    "### s) Evaluate the appropriateness of the regression equation and use residual analyses to check model assumptions. Are all model assumptions satisfied? "
   ]
  },
  {
   "cell_type": "code",
   "id": "b5fb3edd8104b5e6",
   "metadata": {
    "ExecuteTime": {
     "end_time": "2025-04-13T17:26:03.712296Z",
     "start_time": "2025-04-13T17:26:02.884189Z"
    }
   },
   "source": [
    "import statsmodels.api as sm\n",
    "\n",
    "# Fit simple linear regression\n",
    "X = df_sample['Area_in_sqft']\n",
    "y = df_sample['Rent']\n",
    "X_const = sm.add_constant(X)\n",
    "model = sm.OLS(y, X_const).fit()\n",
    "\n",
    "# Residual plot\n",
    "residuals = model.resid\n",
    "fitted_vals = model.fittedvalues\n",
    "\n",
    "plt.scatter(fitted_vals, residuals)\n",
    "plt.axhline(y=0, color='r', linestyle='--')\n",
    "plt.xlabel(\"Fitted Values\")\n",
    "plt.ylabel(\"Residuals\")\n",
    "plt.title(\"Residuals vs Fitted\")\n",
    "plt.show()\n",
    "\n",
    "# Q-Q plot of residuals\n",
    "stats.probplot(residuals, dist=\"norm\", plot=plt)\n",
    "plt.title(\"Q-Q Plot of Residuals\")\n",
    "plt.show()\n"
   ],
   "outputs": [
    {
     "data": {
      "text/plain": [
       "<Figure size 640x480 with 1 Axes>"
      ],
      "image/png": "[encoded data removed]"
     },
     "metadata": {},
     "output_type": "display_data"
    },
    {
     "data": {
      "text/plain": [
       "<Figure size 640x480 with 1 Axes>"
      ],
      "image/png": "[encoded data removed]"
     },
     "metadata": {},
     "output_type": "display_data"
    }
   ],
   "execution_count": 14
  },
  {
   "cell_type": "markdown",
   "id": "385fa809366f53cf",
   "metadata": {},
   "source": [
    "### t) Apply one of the remedies discussed in the class to improve the fitted equation. "
   ]
  },
  {
   "cell_type": "code",
   "id": "2a6ec7eb8d4a992f",
   "metadata": {
    "ExecuteTime": {
     "end_time": "2025-04-13T17:30:10.886976Z",
     "start_time": "2025-04-13T17:30:10.861816Z"
    }
   },
   "source": [
    "import numpy as np\n",
    "\n",
    "#get rid of neg and or 0 vals:\n",
    "df_filtered = df_sample[(df_sample['Rent'] > 0) & (df_sample['Area_in_sqft'] > 0)].copy()\n",
    "df_filtered['log_rent'] = np.log(df_filtered['Rent'])\n",
    "df_filtered['log_area'] = np.log(df_filtered['Area_in_sqft'])\n",
    "\n",
    "df_sample = df_filtered\n",
    "# Apply log transformation\n",
    "df_sample['log_rent'] = np.log(df_sample['Rent'])\n",
    "df_sample['log_area'] = np.log(df_sample['Area_in_sqft'])\n",
    "\n",
    "# Fit new model\n",
    "X_log = sm.add_constant(df_sample['log_area'])\n",
    "model_log = sm.OLS(df_sample['log_rent'], X_log).fit()\n",
    "\n",
    "print(model_log.summary())"
   ],
   "outputs": [
    {
     "name": "stdout",
     "output_type": "stream",
     "text": [
      "                            OLS Regression Results                            \n",
      "==============================================================================\n",
      "Dep. Variable:               log_rent   R-squared:                       0.347\n",
      "Model:                            OLS   Adj. R-squared:                  0.347\n",
      "Method:                 Least Squares   F-statistic:                     2661.\n",
      "Date:                Sun, 13 Apr 2025   Prob (F-statistic):               0.00\n",
      "Time:                        21:30:10   Log-Likelihood:                -5185.2\n",
      "No. Observations:                4999   AIC:                         1.037e+04\n",
      "Df Residuals:                    4997   BIC:                         1.039e+04\n",
      "Df Model:                           1                                         \n",
      "Covariance Type:            nonrobust                                         \n",
      "==============================================================================\n",
      "                 coef    std err          t      P>|t|      [0.025      0.975]\n",
      "------------------------------------------------------------------------------\n",
      "const          6.8007      0.092     74.186      0.000       6.621       6.980\n",
      "log_area       0.6471      0.013     51.582      0.000       0.622       0.672\n",
      "==============================================================================\n",
      "Omnibus:                       13.952   Durbin-Watson:                   1.952\n",
      "Prob(Omnibus):                  0.001   Jarque-Bera (JB):               13.578\n",
      "Skew:                           0.108   Prob(JB):                      0.00113\n",
      "Kurtosis:                       2.863   Cond. No.                         70.6\n",
      "==============================================================================\n",
      "\n",
      "Notes:\n",
      "[1] Standard Errors assume that the covariance matrix of the errors is correctly specified.\n"
     ]
    }
   ],
   "execution_count": 24
  },
  {
   "cell_type": "markdown",
   "id": "63030cab88fb127a",
   "metadata": {},
   "source": [
    "### u) Use the improved regression equation in part r) to find the 95% prediction and confidence intervals for X=350 sqft, and X=2200 sqft. Which prediction seems to be most accurate? Why? "
   ]
  },
  {
   "cell_type": "code",
   "id": "26d8da0671c969c0",
   "metadata": {
    "ExecuteTime": {
     "end_time": "2025-04-13T17:30:24.547927Z",
     "start_time": "2025-04-13T17:30:24.528503Z"
    }
   },
   "source": [
    "# Prepare input data\n",
    "X_pred = pd.DataFrame({'Area_in_sqft': [350, 2200]})\n",
    "X_pred_log = pd.DataFrame({'log_area': np.log(X_pred['Area_in_sqft'])})\n",
    "X_pred_log = sm.add_constant(X_pred_log)\n",
    "\n",
    "# Predict with confidence and prediction intervals\n",
    "pred = model_log.get_prediction(X_pred_log)\n",
    "pred_summary = pred.summary_frame(alpha=0.05)\n",
    "print(pred_summary)\n",
    "\n",
    "# Most accurate? Smaller interval width means higher precision\n",
    "interval_widths = pred_summary['obs_ci_upper'] - pred_summary['obs_ci_lower']\n",
    "print(\"More accurate prediction at:\", X_pred['Area_in_sqft'][interval_widths.idxmin()])\n"
   ],
   "outputs": [
    {
     "name": "stdout",
     "output_type": "stream",
     "text": [
      "        mean   mean_se  mean_ci_lower  mean_ci_upper  obs_ci_lower  \\\n",
      "0  10.591137  0.020141      10.551651      10.630622      9.251871   \n",
      "1  11.780629  0.011058      11.758951      11.802308     10.441771   \n",
      "\n",
      "   obs_ci_upper  \n",
      "0     11.930402  \n",
      "1     13.119488  \n",
      "More accurate prediction at: 2200\n"
     ]
    }
   ],
   "execution_count": 25
  },
  {
   "cell_type": "markdown",
   "id": "95c903e02436f7f1",
   "metadata": {},
   "source": [
    "### v) Use the regression equation in part p) to predict the Y for the values of X in the testing dataset. Calculate the sum of squared prediction error (SSE) and compare it the SSE obtained in the model fit in part p)?"
   ]
  },
  {
   "cell_type": "code",
   "id": "2f940fca742f9782",
   "metadata": {
    "ExecuteTime": {
     "end_time": "2025-04-13T17:30:27.935643Z",
     "start_time": "2025-04-13T17:30:27.909588Z"
    }
   },
   "source": [
    "from sklearn.model_selection import train_test_split\n",
    "\n",
    "# Split into train and test\n",
    "train, test = train_test_split(df_sample, test_size=0.3, random_state=42)\n",
    "\n",
    "# Fit model on train\n",
    "X_train = sm.add_constant(train['log_area'])\n",
    "y_train = np.log(train['Rent'])\n",
    "model_train = sm.OLS(y_train, X_train).fit()\n",
    "\n",
    "# Predict on test\n",
    "X_test = sm.add_constant(np.log(test['Area_in_sqft']))\n",
    "y_test_actual = np.log(test['Rent'])\n",
    "y_test_pred = model_train.predict(X_test)\n",
    "\n",
    "# Calculate SSE\n",
    "sse = np.sum((y_test_actual - y_test_pred) ** 2)\n",
    "print(\"Sum of Squared Errors (SSE) on Test Set:\", sse)\n"
   ],
   "outputs": [
    {
     "name": "stdout",
     "output_type": "stream",
     "text": [
      "Sum of Squared Errors (SSE) on Test Set: 703.3613972145038\n"
     ]
    }
   ],
   "execution_count": 26
  }
 ],
 "metadata": {
  "kernelspec": {
   "display_name": "Python (uv)",
   "language": "python",
   "name": "uvkernel"
  },
  "language_info": {
   "codemirror_mode": {
    "name": "ipython",
    "version": 3
   },
   "file_extension": ".py",
   "mimetype": "text/x-python",
   "name": "python",
   "nbconvert_exporter": "python",
   "pygments_lexer": "ipython3",
   "version": "3.11.2"
  }
 },
 "nbformat": 4,
 "nbformat_minor": 5
}
